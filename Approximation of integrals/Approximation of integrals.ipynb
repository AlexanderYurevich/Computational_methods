{
 "cells": [
  {
   "cell_type": "markdown",
   "id": "e0c3c255",
   "metadata": {},
   "source": [
    "# Approximation of integrals "
   ]
  },
  {
   "cell_type": "code",
   "execution_count": 52,
   "id": "f9087bba",
   "metadata": {},
   "outputs": [],
   "source": [
    "import numpy as np\n",
    "import pandas as pd\n",
    "import matplotlib.pyplot as plt\n",
    "import matplotlib\n",
    "import math\n",
    "from pandas import Series\n",
    "from pandas import DataFrame"
   ]
  },
  {
   "cell_type": "code",
   "execution_count": 80,
   "id": "e21d4ac5",
   "metadata": {},
   "outputs": [
    {
     "data": {
      "text/plain": [
       "0.7853981633974483"
      ]
     },
     "execution_count": 80,
     "metadata": {},
     "output_type": "execute_result"
    }
   ],
   "source": [
    "A, B = -1, 1\n",
    "I = np.pi/4\n",
    "Err = 1e-7\n",
    "def f(x):\n",
    "    return 1/((math.exp(x) + 1) * (x*x + 1))\n",
    "I"
   ]
  },
  {
   "cell_type": "markdown",
   "id": "373b644e",
   "metadata": {},
   "source": [
    "## Exercise 2"
   ]
  },
  {
   "cell_type": "markdown",
   "id": "4b2de81e",
   "metadata": {},
   "source": [
    "### Midpoint"
   ]
  },
  {
   "cell_type": "code",
   "execution_count": 82,
   "id": "34867bf0",
   "metadata": {},
   "outputs": [
    {
     "data": {
      "text/plain": [
       "0.7854185084490842"
      ]
     },
     "execution_count": 82,
     "metadata": {},
     "output_type": "execute_result"
    }
   ],
   "source": [
    "def Q1(N):\n",
    "    h = (B-A)/N\n",
    "    I = 0\n",
    "    for i in range(0, N):\n",
    "        I += f(A + (i + 0.5)*h)\n",
    "    return I*h\n",
    "Q1(64)"
   ]
  },
  {
   "cell_type": "markdown",
   "id": "a1ae3093",
   "metadata": {},
   "source": [
    "### Mr Simpson"
   ]
  },
  {
   "cell_type": "code",
   "execution_count": 84,
   "id": "fbdc6e8d",
   "metadata": {},
   "outputs": [
    {
     "data": {
      "text/plain": [
       "0.7853981633973041"
      ]
     },
     "execution_count": 84,
     "metadata": {},
     "output_type": "execute_result"
    }
   ],
   "source": [
    "def Q2(N):\n",
    "    h = (B-A)/N\n",
    "    I = 0\n",
    "    for i in range(0, N):\n",
    "        I += f(A+i*h) + 4*f(A + (i+0.5)*h) + f(A+(i+1)*h)\n",
    "    return I*h/6\n",
    "Q2(64)"
   ]
  },
  {
   "cell_type": "markdown",
   "id": "7891c9d0",
   "metadata": {},
   "source": [
    "### Error computation"
   ]
  },
  {
   "cell_type": "code",
   "execution_count": 12,
   "id": "d9a4fe73",
   "metadata": {},
   "outputs": [],
   "source": [
    "def R(Q1, Q2, m):\n",
    "    return (Q2 - Q1)/(2**m - 1)"
   ]
  },
  {
   "cell_type": "markdown",
   "id": "fa46b45b",
   "metadata": {},
   "source": [
    "## Runge algorithm"
   ]
  },
  {
   "cell_type": "code",
   "execution_count": 70,
   "id": "c0514f33",
   "metadata": {},
   "outputs": [
    {
     "data": {
      "text/plain": [
       "{'Q': [0.8666666666666667,\n",
       "  0.8270588235294117,\n",
       "  0.8062314589480102,\n",
       "  0.7958148294728723,\n",
       "  0.7906064967215422,\n",
       "  0.7880023300639708,\n",
       "  0.7867002467307797,\n",
       "  0.7860492050641148,\n",
       "  0.7857236842307825,\n",
       "  0.7855609238141162,\n",
       "  0.7854795436057831,\n",
       "  0.7854388535016179,\n",
       "  0.7854185084495334,\n",
       "  0.7854083359234898,\n",
       "  0.7854032496604653,\n",
       "  0.785400706528955,\n",
       "  0.785399434963197],\n",
       " 'R': [nan,\n",
       "  -0.0026405228758169972,\n",
       "  -0.0013884909720934368,\n",
       "  -0.0006944419650091923,\n",
       "  -0.0003472221834220098,\n",
       "  -0.00017361111050475663,\n",
       "  -8.680555554607672e-05,\n",
       "  -4.3402777777656884e-05,\n",
       "  -2.1701388888817343e-05,\n",
       "  -1.0850694444419772e-05,\n",
       "  -5.425347222209886e-06,\n",
       "  -2.7126736110124247e-06,\n",
       "  -1.3563368056320376e-06,\n",
       "  -6.781684029085374e-07,\n",
       "  -3.3908420163560514e-07,\n",
       "  -1.695421006845758e-07,\n",
       "  -8.477105053472656e-08]}"
      ]
     },
     "execution_count": 70,
     "metadata": {},
     "output_type": "execute_result"
    }
   ],
   "source": [
    "def Runge(Q, err, m):\n",
    "    k = 1\n",
    "    Q_arr = [Q(2)]\n",
    "    R_arr = [np.NaN]\n",
    "    while True:\n",
    "        k+=1\n",
    "        Q_arr.append(Q(2**k))\n",
    "        R_arr.append(R(Q_arr[-2], Q_arr[-1], m))\n",
    "        if np.abs(R_arr[-1]) <= err:\n",
    "            return {\"Q\" : Q_arr, \"R\" : R_arr}\n",
    "Runge(Q2, Err, 4)"
   ]
  },
  {
   "cell_type": "code",
   "execution_count": 92,
   "id": "3cba65d2",
   "metadata": {},
   "outputs": [],
   "source": [
    "result_midpoint = Runge(Q1, Err, 2)\n",
    "Mid_len = len(result_midpoint[\"Q\"])\n",
    "result_Simpson = Runge(Q2, Err, 4)\n",
    "Sim_len = len(result_Simpson[\"Q\"])\n",
    "res = DataFrame(#index = [str(i) for i in range(1, Mid_len+1)] + [str(i) for i in range(1, Sim_len+1)],\n",
    "                {\"QF\": [\"Midpoint\"]*Mid_len + [\"Simpson\"]*Sim_len, \n",
    "                 \"Number of divisions\" : [2**i for i in range(1,(Mid_len+1))] + [2**i for i in range(1,(Sim_len+1))],\n",
    "                 \"Step\" : [(B-A)/2**i for i in range(1,(Mid_len+1))]+ [(B-A)/2**i for i in range(1,(Sim_len+1))],\n",
    "                \"Approximate values\" : result_midpoint[\"Q\"]+ result_Simpson[\"Q\"],\n",
    "                 \"Error assessment\" : result_midpoint[\"R\"] + result_Simpson[\"R\"],\n",
    "                \"Absolute error\" : ([abs(I - el) for el in result_midpoint[\"Q\"]]) + [abs(I - el) for el in result_Simpson[\"Q\"]]})\n",
    "res.index = [str(i) for i in range(1, Mid_len+1)] + [str(i) for i in range(1, Sim_len+1)]\n",
    "res.to_excel(\"Exercise_1.xlsx\")"
   ]
  },
  {
   "cell_type": "markdown",
   "id": "e996a74b",
   "metadata": {},
   "source": [
    "## Exercise 2"
   ]
  },
  {
   "cell_type": "code",
   "execution_count": 120,
   "id": "41cca1f9",
   "metadata": {
    "scrolled": true
   },
   "outputs": [
    {
     "data": {
      "text/html": [
       "<div>\n",
       "<style scoped>\n",
       "    .dataframe tbody tr th:only-of-type {\n",
       "        vertical-align: middle;\n",
       "    }\n",
       "\n",
       "    .dataframe tbody tr th {\n",
       "        vertical-align: top;\n",
       "    }\n",
       "\n",
       "    .dataframe thead th {\n",
       "        text-align: right;\n",
       "    }\n",
       "</style>\n",
       "<table border=\"1\" class=\"dataframe\">\n",
       "  <thead>\n",
       "    <tr style=\"text-align: right;\">\n",
       "      <th></th>\n",
       "      <th>$W_{i}$</th>\n",
       "      <th>$X_{i}$</th>\n",
       "    </tr>\n",
       "  </thead>\n",
       "  <tbody>\n",
       "    <tr>\n",
       "      <th>0</th>\n",
       "      <td>0.568889</td>\n",
       "      <td>0.000000</td>\n",
       "    </tr>\n",
       "    <tr>\n",
       "      <th>1</th>\n",
       "      <td>0.478629</td>\n",
       "      <td>-0.538469</td>\n",
       "    </tr>\n",
       "    <tr>\n",
       "      <th>2</th>\n",
       "      <td>0.478629</td>\n",
       "      <td>0.538469</td>\n",
       "    </tr>\n",
       "    <tr>\n",
       "      <th>3</th>\n",
       "      <td>0.236927</td>\n",
       "      <td>-0.906180</td>\n",
       "    </tr>\n",
       "    <tr>\n",
       "      <th>4</th>\n",
       "      <td>0.236927</td>\n",
       "      <td>0.906180</td>\n",
       "    </tr>\n",
       "  </tbody>\n",
       "</table>\n",
       "</div>"
      ],
      "text/plain": [
       "    $W_{i}$   $X_{i}$\n",
       "0  0.568889  0.000000\n",
       "1  0.478629 -0.538469\n",
       "2  0.478629  0.538469\n",
       "3  0.236927 -0.906180\n",
       "4  0.236927  0.906180"
      ]
     },
     "execution_count": 120,
     "metadata": {},
     "output_type": "execute_result"
    }
   ],
   "source": [
    "coeff"
   ]
  },
  {
   "cell_type": "code",
   "execution_count": 121,
   "id": "d6b001ad",
   "metadata": {},
   "outputs": [
    {
     "data": {
      "text/plain": [
       "0.7855855855855856"
      ]
     },
     "execution_count": 121,
     "metadata": {},
     "output_type": "execute_result"
    }
   ],
   "source": [
    "result = sum(coeff.iloc[:,0] *coeff.iloc[:,1].apply(f))\n",
    "result"
   ]
  },
  {
   "cell_type": "code",
   "execution_count": 122,
   "id": "38028234",
   "metadata": {},
   "outputs": [
    {
     "data": {
      "text/plain": [
       "0.00018742218813727618"
      ]
     },
     "execution_count": 122,
     "metadata": {},
     "output_type": "execute_result"
    }
   ],
   "source": [
    "abs(I - result)"
   ]
  }
 ],
 "metadata": {
  "kernelspec": {
   "display_name": "Python 3 (ipykernel)",
   "language": "python",
   "name": "python3"
  },
  "language_info": {
   "codemirror_mode": {
    "name": "ipython",
    "version": 3
   },
   "file_extension": ".py",
   "mimetype": "text/x-python",
   "name": "python",
   "nbconvert_exporter": "python",
   "pygments_lexer": "ipython3",
   "version": "3.11.5"
  }
 },
 "nbformat": 4,
 "nbformat_minor": 5
}
